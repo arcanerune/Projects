{
 "cells": [
  {
   "cell_type": "code",
   "execution_count": 1,
   "metadata": {},
   "outputs": [],
   "source": [
    "import numpy as np\n",
    "import pandas as pd\n",
    "from datetime import datetime\n",
    "import matplotlib as mpl \n",
    "import matplotlib.dates as mdates\n",
    "from sklearn import preprocessing\n",
    "import matplotlib.pyplot as pl\n",
    "from sklearn.model_selection import train_test_split\n",
    "from sklearn.tree import DecisionTreeRegressor \n",
    "from sklearn.ensemble import RandomForestRegressor\n",
    "from sklearn.svm import SVR\n",
    "from sklearn.linear_model import LinearRegression\n",
    "from sklearn.model_selection import GridSearchCV\n",
    "from sklearn.metrics import accuracy_score, confusion_matrix\n",
    "import scipy.stats\n"
   ]
  },
  {
   "cell_type": "markdown",
   "metadata": {},
   "source": [
    "El Nino is a weather patterns that describes the warming of surface waters in the eastern tropical pacific ocean, which inclues New Zealand. Within the project I hope to identify the effects El Nino has on our climate using machine learning models.\n",
    "I am doing this project as I am interested in what weather patterns influeunce New Zealands climate and if so, by how much?"
   ]
  },
  {
   "cell_type": "code",
   "execution_count": 2,
   "metadata": {},
   "outputs": [],
   "source": [
    "el_nino = pd.read_csv(r\"C:\\Users\\ravic\\Downloads\\monthly-el-nino-southern-oscillation-index-19862016.csv\")\n",
    "annual = pd.read_csv(r\"C:\\Users\\ravic\\Downloads\\annual-average-temperature-anomaly-19092013.csv\")\n",
    "rainfall = pd.read_csv(r\"C:\\Users\\ravic\\Downloads\\rainfall-19602016.csv\")\n",
    "monthly=el_nino\n"
   ]
  },
  {
   "cell_type": "code",
   "execution_count": 3,
   "metadata": {
    "scrolled": true
   },
   "outputs": [],
   "source": [
    "#Dealing with NA values within the three datasets.\n",
    "monthly=monthly.dropna(axis=0)\n",
    "annual=annual.dropna(axis=0)\n",
    "rainfall=rainfall.dropna(axis=0)"
   ]
  },
  {
   "cell_type": "code",
   "execution_count": 4,
   "metadata": {},
   "outputs": [],
   "source": [
    "#Making the El-Nino monthly data annual data\n",
    "monthly['Month_year']=pd.to_datetime(monthly['Month_year'], format='%b-%y')\n",
    "monthly=monthly.groupby(\n",
    "    [monthly.Month_year.dt.strftime('%Y')]\n",
    ")['Southern_oscillation_index'].mean().reset_index(name='Southern_oscillation_index')"
   ]
  },
  {
   "cell_type": "code",
   "execution_count": 5,
   "metadata": {},
   "outputs": [],
   "source": [
    "#Cleaning the rainfall data. Grouping by location and year and then getting the average.\n",
    "rainfall['Date']=pd.to_datetime(rainfall['Date'], format='%d/%m/%Y')\n",
    "rainfall=rainfall.groupby(\n",
    "    [rainfall.Date.dt.strftime('%Y'), 'site']\n",
    ")['Rainfall_mm'].mean().reset_index(name='Average Rainfall')"
   ]
  },
  {
   "cell_type": "code",
   "execution_count": 6,
   "metadata": {},
   "outputs": [],
   "source": [
    "#Finding the mathcing Locations and years.\n",
    "sites=list(set(annual.station) & set(rainfall.site))\n",
    "years=list(set(monthly.Month_year)&set(annual.Year)&set(rainfall.Date))\n"
   ]
  },
  {
   "cell_type": "code",
   "execution_count": 7,
   "metadata": {},
   "outputs": [
    {
     "data": {
      "text/html": [
       "<div>\n",
       "<style scoped>\n",
       "    .dataframe tbody tr th:only-of-type {\n",
       "        vertical-align: middle;\n",
       "    }\n",
       "\n",
       "    .dataframe tbody tr th {\n",
       "        vertical-align: top;\n",
       "    }\n",
       "\n",
       "    .dataframe thead th {\n",
       "        text-align: right;\n",
       "    }\n",
       "</style>\n",
       "<table border=\"1\" class=\"dataframe\">\n",
       "  <thead>\n",
       "    <tr style=\"text-align: right;\">\n",
       "      <th></th>\n",
       "      <th>Date</th>\n",
       "      <th>site</th>\n",
       "      <th>Average Rainfall</th>\n",
       "    </tr>\n",
       "  </thead>\n",
       "  <tbody>\n",
       "    <tr>\n",
       "      <th>664</th>\n",
       "      <td>1986</td>\n",
       "      <td>Auckland</td>\n",
       "      <td>3.124110</td>\n",
       "    </tr>\n",
       "    <tr>\n",
       "      <th>668</th>\n",
       "      <td>1986</td>\n",
       "      <td>Dunedin</td>\n",
       "      <td>2.136427</td>\n",
       "    </tr>\n",
       "    <tr>\n",
       "      <th>672</th>\n",
       "      <td>1986</td>\n",
       "      <td>Hokitika</td>\n",
       "      <td>6.964658</td>\n",
       "    </tr>\n",
       "    <tr>\n",
       "      <th>678</th>\n",
       "      <td>1986</td>\n",
       "      <td>Nelson</td>\n",
       "      <td>2.902192</td>\n",
       "    </tr>\n",
       "    <tr>\n",
       "      <th>689</th>\n",
       "      <td>1986</td>\n",
       "      <td>Wellington</td>\n",
       "      <td>3.590223</td>\n",
       "    </tr>\n",
       "    <tr>\n",
       "      <th>...</th>\n",
       "      <td>...</td>\n",
       "      <td>...</td>\n",
       "      <td>...</td>\n",
       "    </tr>\n",
       "    <tr>\n",
       "      <th>1472</th>\n",
       "      <td>2013</td>\n",
       "      <td>Dunedin</td>\n",
       "      <td>2.123288</td>\n",
       "    </tr>\n",
       "    <tr>\n",
       "      <th>1476</th>\n",
       "      <td>2013</td>\n",
       "      <td>Hokitika</td>\n",
       "      <td>7.278356</td>\n",
       "    </tr>\n",
       "    <tr>\n",
       "      <th>1480</th>\n",
       "      <td>2013</td>\n",
       "      <td>Masterton</td>\n",
       "      <td>2.483836</td>\n",
       "    </tr>\n",
       "    <tr>\n",
       "      <th>1483</th>\n",
       "      <td>2013</td>\n",
       "      <td>Nelson</td>\n",
       "      <td>2.841370</td>\n",
       "    </tr>\n",
       "    <tr>\n",
       "      <th>1494</th>\n",
       "      <td>2013</td>\n",
       "      <td>Wellington</td>\n",
       "      <td>3.855912</td>\n",
       "    </tr>\n",
       "  </tbody>\n",
       "</table>\n",
       "<p>162 rows × 3 columns</p>\n",
       "</div>"
      ],
      "text/plain": [
       "      Date        site  Average Rainfall\n",
       "664   1986    Auckland          3.124110\n",
       "668   1986     Dunedin          2.136427\n",
       "672   1986    Hokitika          6.964658\n",
       "678   1986      Nelson          2.902192\n",
       "689   1986  Wellington          3.590223\n",
       "...    ...         ...               ...\n",
       "1472  2013     Dunedin          2.123288\n",
       "1476  2013    Hokitika          7.278356\n",
       "1480  2013   Masterton          2.483836\n",
       "1483  2013      Nelson          2.841370\n",
       "1494  2013  Wellington          3.855912\n",
       "\n",
       "[162 rows x 3 columns]"
      ]
     },
     "execution_count": 7,
     "metadata": {},
     "output_type": "execute_result"
    }
   ],
   "source": [
    "#Remove all values that aren't matching between the data frames.\n",
    "rainfall = rainfall[rainfall.site.isin(sites)]\n",
    "rainfall = rainfall[rainfall.Date.isin(years)]\n",
    "annual = annual[annual.Year.isin(years)]\n",
    "annual = annual[annual.station.isin(sites)]\n",
    "monthly = monthly[monthly.Month_year.isin(years)]\n",
    "\n",
    "#annual = annual[annual.data=='Temp']\n",
    "rain_avg=rainfall\n",
    "rain_avg"
   ]
  },
  {
   "cell_type": "code",
   "execution_count": 8,
   "metadata": {},
   "outputs": [],
   "source": [
    "#Make rain average which only has two variables, year and rainfall\n",
    "rain_avg['Date']=pd.to_datetime(rain_avg['Date'], format='%Y')\n",
    "rain_avg=rain_avg.groupby(\n",
    "    [rain_avg.Date.dt.strftime('%Y')]\n",
    ")['Average Rainfall'].mean().reset_index(name='Average Rainfall')\n"
   ]
  },
  {
   "cell_type": "code",
   "execution_count": 9,
   "metadata": {},
   "outputs": [],
   "source": [
    "rainfallAuk=rainfall[rainfall.site=='Auckland']\n",
    "rainfallDun=rainfall[rainfall.site=='Dunedin']\n",
    "rainfallHok=rainfall[rainfall.site=='Hokitika']\n",
    "rainfallWel=rainfall[rainfall.site=='Wellington']\n",
    "rainfallMas=rainfall[rainfall.site=='Masterton']\n",
    "rainfallNel=rainfall[rainfall.site=='Nelson']\n",
    "Temp=annual[annual.data=='Temp']\n",
    "TempAuk=Temp[Temp.station=='Auckland']\n",
    "TempDun=Temp[Temp.station=='Dunedin']\n",
    "TempHok=Temp[Temp.station=='Hokitika']\n",
    "TempWel=Temp[Temp.station=='Wellington']\n",
    "TempMas=Temp[Temp.station=='Masterton']\n",
    "TempNel=Temp[Temp.station=='Nelson']\n",
    "Temp_avg=Temp"
   ]
  },
  {
   "cell_type": "code",
   "execution_count": 10,
   "metadata": {},
   "outputs": [],
   "source": [
    "rainfallAuk = rainfallAuk.reset_index()\n",
    "TempAuk = TempAuk.reset_index()\n",
    "rainfallDun = rainfallDun.reset_index()\n",
    "TempDun = TempDun.reset_index()\n",
    "rainfallWel = rainfallWel.reset_index()\n",
    "TempWel = TempWel.reset_index()"
   ]
  },
  {
   "cell_type": "markdown",
   "metadata": {},
   "source": [
    "\n",
    " I have plot the various time series and identify any emergent El Nino temporal patterns."
   ]
  },
  {
   "cell_type": "code",
   "execution_count": 12,
   "metadata": {},
   "outputs": [
    {
     "data": {
      "image/png": "[encoded data removed]",
      "text/plain": [
       "<Figure size 432x288 with 2 Axes>"
      ]
     },
     "metadata": {
      "needs_background": "light"
     },
     "output_type": "display_data"
    }
   ],
   "source": [
    "#This question is so broad what does it even want haha.\n",
    "fig, (ax1, ax2) = pl.subplots(1,2)\n",
    "ax1.plot_date(el_nino.Month_year, el_nino.Southern_oscillation_index, marker='', linestyle='-')\n",
    "ax1.legend(['Monthly'])\n",
    "ax2.plot_date(monthly.Month_year, monthly.Southern_oscillation_index, marker='', linestyle='-')\n",
    "ax2.legend(['Yearly'])\n",
    "fig.suptitle('ENSO monthly and Yearly data (1986-2013)')\n",
    "fig.autofmt_xdate()\n",
    "pl.show()\n"
   ]
  },
  {
   "cell_type": "code",
   "execution_count": 13,
   "metadata": {},
   "outputs": [
    {
     "data": {
      "image/png": "[encoded data removed]",
      "text/plain": [
       "<Figure size 432x288 with 2 Axes>"
      ]
     },
     "metadata": {
      "needs_background": "light"
     },
     "output_type": "display_data"
    }
   ],
   "source": [
    "\n",
    "fig, (ax1, ax2) = pl.subplots(2)\n",
    "x_dates = monthly['Month_year'].sort_values().unique()\n",
    "#ax.xaxis.set_major_formatter(pl.FixedFormatter(x_dates))\n",
    "ax1.plot_date(rainfallAuk.Date, rainfallAuk['Average Rainfall'], marker='', linestyle='-')\n",
    "ax1.plot_date(rainfallDun.Date, rainfallDun['Average Rainfall'], marker='', linestyle='-')\n",
    "ax1.plot_date(rainfallHok.Date, rainfallHok['Average Rainfall'], marker='', linestyle='-')\n",
    "ax1.plot_date(rainfallWel.Date, rainfallWel['Average Rainfall'], marker='', linestyle='-')\n",
    "ax1.plot_date(rainfallMas.Date, rainfallMas['Average Rainfall'], marker='', linestyle='-')\n",
    "ax1.plot_date(rainfallNel.Date, rainfallNel['Average Rainfall'], marker='', linestyle='-')\n",
    "ax1.legend(['Akl','Dun', 'Hok', 'Wel', 'Mas', 'Nel'])\n",
    "ax2.plot_date(monthly.Month_year, monthly.Southern_oscillation_index, marker='', linestyle='-')\n",
    "\n",
    "fig.suptitle('Regional rainfall compared to ENSO (1986-2013)')\n",
    "fig.autofmt_xdate()\n",
    "pl.show()\n"
   ]
  },
  {
   "cell_type": "code",
   "execution_count": null,
   "metadata": {},
   "outputs": [],
   "source": []
  },
  {
   "cell_type": "code",
   "execution_count": 14,
   "metadata": {
    "scrolled": true
   },
   "outputs": [
    {
     "data": {
      "image/png": "[encoded data removed]",
      "text/plain": [
       "<Figure size 432x288 with 2 Axes>"
      ]
     },
     "metadata": {
      "needs_background": "light"
     },
     "output_type": "display_data"
    }
   ],
   "source": [
    "fig, (ax1, ax2) = pl.subplots(2)\n",
    "x_dates = monthly['Month_year'].sort_values().unique()\n",
    "#ax.xaxis.set_major_formatter(pl.FixedFormatter(x_dates))\n",
    "ax1.plot_date(TempAuk['Year'], TempAuk['value'], marker='', linestyle='-')\n",
    "ax1.plot_date(TempDun['Year'], TempDun['value'], marker='', linestyle='-')\n",
    "ax1.plot_date(TempHok['Year'], TempHok['value'], marker='', linestyle='-')\n",
    "ax1.plot_date(TempWel['Year'], TempWel['value'], marker='', linestyle='-')\n",
    "ax1.plot_date(TempMas['Year'], TempMas['value'], marker='', linestyle='-')\n",
    "ax1.plot_date(TempNel['Year'], TempNel['value'], marker='', linestyle='-')\n",
    "\n",
    "ax1.legend(['Enso','Akl','Dun', 'Hok', 'Wel', 'Mas', 'Nel'])\n",
    "ax2.plot_date(monthly.Month_year, monthly.Southern_oscillation_index, marker='', linestyle='-')\n",
    "fig.suptitle('Regional Temperature compared to ENSO (1986-2013)')\n",
    "fig.autofmt_xdate()\n",
    "pl.show()"
   ]
  },
  {
   "cell_type": "markdown",
   "metadata": {},
   "source": [
    "I have now tested if there is any correlation between the climate and El Nino"
   ]
  },
  {
   "cell_type": "code",
   "execution_count": 15,
   "metadata": {},
   "outputs": [
    {
     "name": "stderr",
     "output_type": "stream",
     "text": [
      "C:\\Users\\ravic\\anaconda3\\lib\\site-packages\\ipykernel_launcher.py:1: SettingWithCopyWarning: \n",
      "A value is trying to be set on a copy of a slice from a DataFrame.\n",
      "Try using .loc[row_indexer,col_indexer] = value instead\n",
      "\n",
      "See the caveats in the documentation: https://pandas.pydata.org/pandas-docs/stable/user_guide/indexing.html#returning-a-view-versus-a-copy\n",
      "  \"\"\"Entry point for launching an IPython kernel.\n"
     ]
    }
   ],
   "source": [
    "\n",
    "Temp_avg['Year']=pd.to_datetime(Temp['Year'], format='%Y')\n",
    "Temp_avg=Temp_avg.groupby(\n",
    "    [Temp_avg.Year.dt.strftime('%Y')]\n",
    ")['value'].mean().reset_index(name='value_mean')\n"
   ]
  },
  {
   "cell_type": "code",
   "execution_count": 16,
   "metadata": {
    "scrolled": true
   },
   "outputs": [
    {
     "data": {
      "text/html": [
       "<div>\n",
       "<style scoped>\n",
       "    .dataframe tbody tr th:only-of-type {\n",
       "        vertical-align: middle;\n",
       "    }\n",
       "\n",
       "    .dataframe tbody tr th {\n",
       "        vertical-align: top;\n",
       "    }\n",
       "\n",
       "    .dataframe thead th {\n",
       "        text-align: right;\n",
       "    }\n",
       "</style>\n",
       "<table border=\"1\" class=\"dataframe\">\n",
       "  <thead>\n",
       "    <tr style=\"text-align: right;\">\n",
       "      <th></th>\n",
       "      <th>ENSO</th>\n",
       "      <th>Rainfall</th>\n",
       "      <th>Temp</th>\n",
       "    </tr>\n",
       "  </thead>\n",
       "  <tbody>\n",
       "    <tr>\n",
       "      <th>ENSO</th>\n",
       "      <td>1.000000</td>\n",
       "      <td>0.167947</td>\n",
       "      <td>0.572692</td>\n",
       "    </tr>\n",
       "    <tr>\n",
       "      <th>Rainfall</th>\n",
       "      <td>0.167947</td>\n",
       "      <td>1.000000</td>\n",
       "      <td>0.056788</td>\n",
       "    </tr>\n",
       "    <tr>\n",
       "      <th>Temp</th>\n",
       "      <td>0.572692</td>\n",
       "      <td>0.056788</td>\n",
       "      <td>1.000000</td>\n",
       "    </tr>\n",
       "  </tbody>\n",
       "</table>\n",
       "</div>"
      ],
      "text/plain": [
       "              ENSO  Rainfall      Temp\n",
       "ENSO      1.000000  0.167947  0.572692\n",
       "Rainfall  0.167947  1.000000  0.056788\n",
       "Temp      0.572692  0.056788  1.000000"
      ]
     },
     "execution_count": 16,
     "metadata": {},
     "output_type": "execute_result"
    }
   ],
   "source": [
    "yearly_avg=pd.DataFrame({'Date':rain_avg['Date'],'ENSO':monthly['Southern_oscillation_index'],'Rainfall':rain_avg['Average Rainfall'], 'Temp':Temp_avg['value_mean']})\n",
    "yearly_avg.corr(method='pearson')"
   ]
  },
  {
   "cell_type": "markdown",
   "metadata": {},
   "source": [
    "I then test if this correlation is stronger or weaker in different parts of the country"
   ]
  },
  {
   "cell_type": "code",
   "execution_count": 17,
   "metadata": {},
   "outputs": [
    {
     "data": {
      "text/html": [
       "<div>\n",
       "<style scoped>\n",
       "    .dataframe tbody tr th:only-of-type {\n",
       "        vertical-align: middle;\n",
       "    }\n",
       "\n",
       "    .dataframe tbody tr th {\n",
       "        vertical-align: top;\n",
       "    }\n",
       "\n",
       "    .dataframe thead th {\n",
       "        text-align: right;\n",
       "    }\n",
       "</style>\n",
       "<table border=\"1\" class=\"dataframe\">\n",
       "  <thead>\n",
       "    <tr style=\"text-align: right;\">\n",
       "      <th></th>\n",
       "      <th>ENSO</th>\n",
       "      <th>Rainfall_Auk</th>\n",
       "      <th>Temp_Auk</th>\n",
       "    </tr>\n",
       "  </thead>\n",
       "  <tbody>\n",
       "    <tr>\n",
       "      <th>ENSO</th>\n",
       "      <td>1.000000</td>\n",
       "      <td>0.238533</td>\n",
       "      <td>0.586845</td>\n",
       "    </tr>\n",
       "    <tr>\n",
       "      <th>Rainfall_Auk</th>\n",
       "      <td>0.238533</td>\n",
       "      <td>1.000000</td>\n",
       "      <td>0.107158</td>\n",
       "    </tr>\n",
       "    <tr>\n",
       "      <th>Temp_Auk</th>\n",
       "      <td>0.586845</td>\n",
       "      <td>0.107158</td>\n",
       "      <td>1.000000</td>\n",
       "    </tr>\n",
       "  </tbody>\n",
       "</table>\n",
       "</div>"
      ],
      "text/plain": [
       "                  ENSO  Rainfall_Auk  Temp_Auk\n",
       "ENSO          1.000000      0.238533  0.586845\n",
       "Rainfall_Auk  0.238533      1.000000  0.107158\n",
       "Temp_Auk      0.586845      0.107158  1.000000"
      ]
     },
     "execution_count": 17,
     "metadata": {},
     "output_type": "execute_result"
    }
   ],
   "source": [
    "yearly_auk=pd.DataFrame({'Date':TempAuk['Year'],'ENSO':monthly['Southern_oscillation_index'],'Rainfall_Auk':rainfallAuk['Average Rainfall'], 'Temp_Auk':TempAuk['value']})\n",
    "yearly_Dun=pd.DataFrame({'Date':TempAuk['Year'],'ENSO':monthly['Southern_oscillation_index'],'Rainfall_Dun':rainfallDun['Average Rainfall'], 'Temp_Dun':TempDun['value']})\n",
    "yearly_Wel=pd.DataFrame({'Date':TempAuk['Year'],'ENSO':monthly['Southern_oscillation_index'],'Rainfall_Wel':rainfallWel['Average Rainfall'], 'Temp_Well':TempWel['value']})\n",
    "yearly_auk.corr(method='pearson')\n"
   ]
  },
  {
   "cell_type": "code",
   "execution_count": 18,
   "metadata": {},
   "outputs": [
    {
     "data": {
      "text/html": [
       "<div>\n",
       "<style scoped>\n",
       "    .dataframe tbody tr th:only-of-type {\n",
       "        vertical-align: middle;\n",
       "    }\n",
       "\n",
       "    .dataframe tbody tr th {\n",
       "        vertical-align: top;\n",
       "    }\n",
       "\n",
       "    .dataframe thead th {\n",
       "        text-align: right;\n",
       "    }\n",
       "</style>\n",
       "<table border=\"1\" class=\"dataframe\">\n",
       "  <thead>\n",
       "    <tr style=\"text-align: right;\">\n",
       "      <th></th>\n",
       "      <th>ENSO</th>\n",
       "      <th>Rainfall_Dun</th>\n",
       "      <th>Temp_Dun</th>\n",
       "    </tr>\n",
       "  </thead>\n",
       "  <tbody>\n",
       "    <tr>\n",
       "      <th>ENSO</th>\n",
       "      <td>1.000000</td>\n",
       "      <td>-0.108965</td>\n",
       "      <td>0.481875</td>\n",
       "    </tr>\n",
       "    <tr>\n",
       "      <th>Rainfall_Dun</th>\n",
       "      <td>-0.108965</td>\n",
       "      <td>1.000000</td>\n",
       "      <td>-0.269426</td>\n",
       "    </tr>\n",
       "    <tr>\n",
       "      <th>Temp_Dun</th>\n",
       "      <td>0.481875</td>\n",
       "      <td>-0.269426</td>\n",
       "      <td>1.000000</td>\n",
       "    </tr>\n",
       "  </tbody>\n",
       "</table>\n",
       "</div>"
      ],
      "text/plain": [
       "                  ENSO  Rainfall_Dun  Temp_Dun\n",
       "ENSO          1.000000     -0.108965  0.481875\n",
       "Rainfall_Dun -0.108965      1.000000 -0.269426\n",
       "Temp_Dun      0.481875     -0.269426  1.000000"
      ]
     },
     "execution_count": 18,
     "metadata": {},
     "output_type": "execute_result"
    }
   ],
   "source": [
    "yearly_Dun.corr(method='pearson')"
   ]
  },
  {
   "cell_type": "code",
   "execution_count": 19,
   "metadata": {},
   "outputs": [
    {
     "data": {
      "text/html": [
       "<div>\n",
       "<style scoped>\n",
       "    .dataframe tbody tr th:only-of-type {\n",
       "        vertical-align: middle;\n",
       "    }\n",
       "\n",
       "    .dataframe tbody tr th {\n",
       "        vertical-align: top;\n",
       "    }\n",
       "\n",
       "    .dataframe thead th {\n",
       "        text-align: right;\n",
       "    }\n",
       "</style>\n",
       "<table border=\"1\" class=\"dataframe\">\n",
       "  <thead>\n",
       "    <tr style=\"text-align: right;\">\n",
       "      <th></th>\n",
       "      <th>ENSO</th>\n",
       "      <th>Rainfall_Wel</th>\n",
       "      <th>Temp_Well</th>\n",
       "    </tr>\n",
       "  </thead>\n",
       "  <tbody>\n",
       "    <tr>\n",
       "      <th>ENSO</th>\n",
       "      <td>1.000000</td>\n",
       "      <td>0.198821</td>\n",
       "      <td>0.448135</td>\n",
       "    </tr>\n",
       "    <tr>\n",
       "      <th>Rainfall_Wel</th>\n",
       "      <td>0.198821</td>\n",
       "      <td>1.000000</td>\n",
       "      <td>-0.067386</td>\n",
       "    </tr>\n",
       "    <tr>\n",
       "      <th>Temp_Well</th>\n",
       "      <td>0.448135</td>\n",
       "      <td>-0.067386</td>\n",
       "      <td>1.000000</td>\n",
       "    </tr>\n",
       "  </tbody>\n",
       "</table>\n",
       "</div>"
      ],
      "text/plain": [
       "                  ENSO  Rainfall_Wel  Temp_Well\n",
       "ENSO          1.000000      0.198821   0.448135\n",
       "Rainfall_Wel  0.198821      1.000000  -0.067386\n",
       "Temp_Well     0.448135     -0.067386   1.000000"
      ]
     },
     "execution_count": 19,
     "metadata": {},
     "output_type": "execute_result"
    }
   ],
   "source": [
    "yearly_Wel.corr(method='pearson')"
   ]
  },
  {
   "cell_type": "markdown",
   "metadata": {},
   "source": [
    "There appears to be little difference between ENSO and the rainfall and Temperature within different parts of New Zealand. The main observable difference is the much lower rainfall in Dunedin then in Wellington or Aukland."
   ]
  },
  {
   "cell_type": "markdown",
   "metadata": {},
   "source": [
    "\n",
    "Below code sees if El Nino varies year to year within Auckland."
   ]
  },
  {
   "cell_type": "code",
   "execution_count": 20,
   "metadata": {},
   "outputs": [],
   "source": [
    "X = yearly_auk.drop(\"ENSO\", axis=1)\n",
    "y = yearly_auk['ENSO']\n",
    "X = preprocessing.normalize(X)\n",
    "X_train, X_test, y_train, y_test = train_test_split(\n",
    "X, y, test_size=0.33, random_state=42)\n",
    "\n"
   ]
  },
  {
   "cell_type": "code",
   "execution_count": 21,
   "metadata": {},
   "outputs": [
    {
     "data": {
      "text/plain": [
       "-0.4004422523726472"
      ]
     },
     "execution_count": 21,
     "metadata": {},
     "output_type": "execute_result"
    }
   ],
   "source": [
    "tree = DecisionTreeRegressor()         \n",
    "parameters_tree={'random_state':[0]}\n",
    "grid_tree = GridSearchCV(estimator=tree, param_grid = parameters_tree, cv = 2, n_jobs=-1)\n",
    "grid_tree.fit(X_train, y_train)\n",
    "grid_tree.best_estimator_\n",
    "grid_tree.score(X_test, y_test)\n"
   ]
  },
  {
   "cell_type": "code",
   "execution_count": 22,
   "metadata": {},
   "outputs": [
    {
     "name": "stdout",
     "output_type": "stream",
     "text": [
      "Score: -0.04535767076830366\n"
     ]
    }
   ],
   "source": [
    "regressor = SVR()\n",
    "parameters_SVR={'C':[1.0], 'cache_size':[200], 'coef0':[0.0], 'degree':[3], 'epsilon':[0.2], 'gamma':['scale'],\n",
    "    'kernel':['rbf'], 'max_iter':[-1], 'shrinking':[True], 'tol':[0.001], 'verbose':[False]} \n",
    "grid_SVR = GridSearchCV(estimator=regressor, param_grid = parameters_SVR, cv = 2, n_jobs=-1)\n",
    "grid_SVR.fit(X_train, y_train)\n",
    "grid_SVR.best_estimator_ \n",
    "print('Score:', grid_SVR.score(X_test, y_test))\n"
   ]
  },
  {
   "cell_type": "code",
   "execution_count": 23,
   "metadata": {},
   "outputs": [
    {
     "name": "stdout",
     "output_type": "stream",
     "text": [
      "R2: 0.2741118273069695\n",
      "Mean Absolute Error: 0.53 degrees.\n"
     ]
    }
   ],
   "source": [
    "model = LinearRegression()\n",
    "parameters_model={'copy_X':[True], 'fit_intercept':[True], 'n_jobs':[None], 'normalize':[False]}\n",
    "grid_model=GridSearchCV(estimator=model,param_grid=parameters_model, cv = 2, n_jobs=-1)\n",
    "grid_model.fit(X_train, y_train)\n",
    "grid_model.best_estimator_\n",
    "print('R2:', grid_model.score(X_test, y_test))\n",
    "\n",
    "# Use the forest's predict method on the test data\n",
    "predictions = grid_model.predict(X_test)# Calculate the absolute errors\n",
    "errors = abs(predictions - y_test)# Print out the mean absolute error (mae)\n",
    "print('Mean Absolute Error:', round(np.mean(errors), 2), 'degrees.')\n"
   ]
  },
  {
   "cell_type": "markdown",
   "metadata": {},
   "source": [
    "The LinearRegression gave us a R2 value of 0.274 with Mean absolute error of 0.43. This indicates that Rainfall and Temperature are good at explaining changes in ENZO. This makes sense as changes in ENSO during summer can bring increased westerly winds, more rain in the west, and drought in the east; in winter it can lead to more cool southerly winds. \n"
   ]
  },
  {
   "cell_type": "code",
   "execution_count": 24,
   "metadata": {},
   "outputs": [
    {
     "name": "stdout",
     "output_type": "stream",
     "text": [
      "0.3599394974971122\n"
     ]
    }
   ],
   "source": [
    "regr = RandomForestRegressor()\n",
    "parameters_regr={}\n",
    "grid_regr=GridSearchCV(estimator=regr,param_grid=parameters_regr, cv = 2, n_jobs=-1)\n",
    "grid_regr.fit(X_train, y_train)\n",
    "grid_regr.best_estimator_\n",
    "print(grid_regr.score(X_test, y_test))\n"
   ]
  },
  {
   "cell_type": "code",
   "execution_count": null,
   "metadata": {},
   "outputs": [],
   "source": []
  },
  {
   "cell_type": "markdown",
   "metadata": {},
   "source": []
  },
  {
   "cell_type": "code",
   "execution_count": null,
   "metadata": {},
   "outputs": [],
   "source": [
    "Predicting strength of El Nino in future years "
   ]
  },
  {
   "cell_type": "code",
   "execution_count": 25,
   "metadata": {},
   "outputs": [
    {
     "data": {
      "text/html": [
       "<div>\n",
       "<style scoped>\n",
       "    .dataframe tbody tr th:only-of-type {\n",
       "        vertical-align: middle;\n",
       "    }\n",
       "\n",
       "    .dataframe tbody tr th {\n",
       "        vertical-align: top;\n",
       "    }\n",
       "\n",
       "    .dataframe thead th {\n",
       "        text-align: right;\n",
       "    }\n",
       "</style>\n",
       "<table border=\"1\" class=\"dataframe\">\n",
       "  <thead>\n",
       "    <tr style=\"text-align: right;\">\n",
       "      <th></th>\n",
       "      <th>tmin3</th>\n",
       "      <th>tmin2</th>\n",
       "      <th>tmin1</th>\n",
       "      <th>Southern_oscillation_index</th>\n",
       "    </tr>\n",
       "  </thead>\n",
       "  <tbody>\n",
       "    <tr>\n",
       "      <th>0</th>\n",
       "      <td>1.0</td>\n",
       "      <td>-1.0</td>\n",
       "      <td>0.5</td>\n",
       "      <td>0.3</td>\n",
       "    </tr>\n",
       "    <tr>\n",
       "      <th>1</th>\n",
       "      <td>-1.0</td>\n",
       "      <td>0.5</td>\n",
       "      <td>0.3</td>\n",
       "      <td>-0.2</td>\n",
       "    </tr>\n",
       "    <tr>\n",
       "      <th>2</th>\n",
       "      <td>0.5</td>\n",
       "      <td>0.3</td>\n",
       "      <td>-0.2</td>\n",
       "      <td>1.0</td>\n",
       "    </tr>\n",
       "    <tr>\n",
       "      <th>3</th>\n",
       "      <td>0.3</td>\n",
       "      <td>-0.2</td>\n",
       "      <td>1.0</td>\n",
       "      <td>0.3</td>\n",
       "    </tr>\n",
       "    <tr>\n",
       "      <th>4</th>\n",
       "      <td>-0.2</td>\n",
       "      <td>1.0</td>\n",
       "      <td>0.3</td>\n",
       "      <td>-0.4</td>\n",
       "    </tr>\n",
       "  </tbody>\n",
       "</table>\n",
       "</div>"
      ],
      "text/plain": [
       "   tmin3  tmin2  tmin1  Southern_oscillation_index\n",
       "0    1.0   -1.0    0.5                         0.3\n",
       "1   -1.0    0.5    0.3                        -0.2\n",
       "2    0.5    0.3   -0.2                         1.0\n",
       "3    0.3   -0.2    1.0                         0.3\n",
       "4   -0.2    1.0    0.3                        -0.4"
      ]
     },
     "execution_count": 25,
     "metadata": {},
     "output_type": "execute_result"
    }
   ],
   "source": [
    "predENSO=pd.DataFrame({\"tmin3\":el_nino.Southern_oscillation_index, 'tmin2':el_nino.Southern_oscillation_index,'tmin1':el_nino.Southern_oscillation_index,\"Southern_oscillation_index\":el_nino.Southern_oscillation_index})\n",
    "for i in range(1,len(predENSO.columns)):\n",
    "        predENSO.iloc[:,i]=predENSO.iloc[:,i].shift(-i)\n",
    "predENSO=predENSO.dropna(axis=0)\n",
    "predENSO.head()\n"
   ]
  },
  {
   "cell_type": "code",
   "execution_count": 26,
   "metadata": {},
   "outputs": [],
   "source": [
    "X_enso = predENSO.drop(\"Southern_oscillation_index\", axis=1)\n",
    "y_enso = predENSO['Southern_oscillation_index']\n",
    "X_enso = preprocessing.normalize(X_enso)\n",
    "X_train_enso, X_test_enso, y_train_enso, y_test_enso = train_test_split(\n",
    "X_enso, y_enso, test_size=0.33, random_state=42)\n"
   ]
  },
  {
   "cell_type": "code",
   "execution_count": 27,
   "metadata": {},
   "outputs": [],
   "source": [
    "RFG = RandomForestRegressor()\n",
    "parameters_RFG={}\n",
    "grid_RFG=GridSearchCV(estimator=RFG,param_grid=parameters_RFG, cv = 2, n_jobs=-1)\n",
    "grid_RFG.fit(X_train_enso, y_train_enso)\n",
    "grid_RFG.best_estimator_\n",
    "RFG_score=grid_RFG.score(X_test_enso, y_test_enso)\n"
   ]
  },
  {
   "cell_type": "code",
   "execution_count": 28,
   "metadata": {
    "scrolled": true
   },
   "outputs": [
    {
     "name": "stdout",
     "output_type": "stream",
     "text": [
      "0.4648820064310908\n"
     ]
    }
   ],
   "source": [
    "LR = LinearRegression()\n",
    "parameters_LR={'copy_X':[True], 'fit_intercept':[True], 'n_jobs':[None], 'normalize':[False]}\n",
    "grid_LR=GridSearchCV(estimator=LR,param_grid=parameters_LR, cv = 2, n_jobs=-1)\n",
    "grid_LR.fit(X_train_enso, y_train_enso)\n",
    "grid_LR.best_estimator_\n",
    "ENSO_score=grid_LR.score(X_test_enso, y_test_enso)\n",
    "print(ENSO_score)\n"
   ]
  },
  {
   "cell_type": "code",
   "execution_count": 29,
   "metadata": {},
   "outputs": [],
   "source": [
    "predENSO6=pd.DataFrame({\"tmin6\":el_nino.Southern_oscillation_index, 'tmin5':el_nino.Southern_oscillation_index,'tmin4':el_nino.Southern_oscillation_index, \"tmin3\":el_nino.Southern_oscillation_index, 'tmin2':el_nino.Southern_oscillation_index,'tmin1':el_nino.Southern_oscillation_index,\"Southern_oscillation_index\":el_nino.Southern_oscillation_index})\n"
   ]
  },
  {
   "cell_type": "code",
   "execution_count": 30,
   "metadata": {},
   "outputs": [],
   "source": [
    "for i in range(1, len(predENSO6.columns)):\n",
    "    \n",
    "        predENSO6.iloc[:,i]=predENSO6.iloc[:,i].shift(-i)\n",
    "        \n",
    "predENSO6=predENSO6.dropna(axis=0)"
   ]
  },
  {
   "cell_type": "code",
   "execution_count": 31,
   "metadata": {},
   "outputs": [],
   "source": [
    "X_enso_6 = predENSO6.drop(\"Southern_oscillation_index\", axis=1)\n",
    "y_enso_6 = predENSO6['Southern_oscillation_index']\n",
    "X_enso_6 = preprocessing.normalize(X_enso_6)\n",
    "X_train_enso_6, X_test_enso_6, y_train_enso_6, y_test_enso_6 = train_test_split(\n",
    "X_enso_6, y_enso_6, test_size=0.33, random_state=42)"
   ]
  },
  {
   "cell_type": "code",
   "execution_count": 32,
   "metadata": {},
   "outputs": [
    {
     "name": "stdout",
     "output_type": "stream",
     "text": [
      "0.4318423468635929\n"
     ]
    }
   ],
   "source": [
    "RFG = RandomForestRegressor()\n",
    "parameters_RFG={}\n",
    "grid_RFG=GridSearchCV(estimator=RFG,param_grid=parameters_RFG, cv = 2, n_jobs=-1)\n",
    "grid_RFG.fit(X_train_enso_6, y_train_enso_6)\n",
    "grid_RFG.best_estimator_\n",
    "RFG6_score=grid_RFG.score(X_test_enso_6, y_test_enso_6)\n",
    "print(RFG6_score)"
   ]
  },
  {
   "cell_type": "code",
   "execution_count": 33,
   "metadata": {},
   "outputs": [
    {
     "name": "stdout",
     "output_type": "stream",
     "text": [
      "0.4342390615905911\n"
     ]
    }
   ],
   "source": [
    "LR = LinearRegression()\n",
    "parameters_LR={'copy_X':[True], 'fit_intercept':[True], 'n_jobs':[None], 'normalize':[False]}\n",
    "grid_LR=GridSearchCV(estimator=LR,param_grid=parameters_LR, cv = 2, n_jobs=-1)\n",
    "grid_LR.fit(X_train_enso_6, y_train_enso_6)\n",
    "grid_LR.best_estimator_\n",
    "ENSO6_score=grid_LR.score(X_test_enso_6, y_test_enso_6)\n",
    "print(ENSO6_score)"
   ]
  },
  {
   "cell_type": "code",
   "execution_count": 34,
   "metadata": {},
   "outputs": [],
   "source": [
    "predENSO12=pd.DataFrame({\"tmin12\":el_nino.Southern_oscillation_index, 'tmin11':el_nino.Southern_oscillation_index,'tmin10':el_nino.Southern_oscillation_index,\"tmin9\":el_nino.Southern_oscillation_index, 'tmin8':el_nino.Southern_oscillation_index,'tmin7':el_nino.Southern_oscillation_index, \"tmin6\":el_nino.Southern_oscillation_index, 'tmin5':el_nino.Southern_oscillation_index,'tmin4':el_nino.Southern_oscillation_index, \"tmin3\":el_nino.Southern_oscillation_index, 'tmin2':el_nino.Southern_oscillation_index,'tmin1':el_nino.Southern_oscillation_index,\"Southern_oscillation_index\":el_nino.Southern_oscillation_index})\n",
    "\n",
    "for i in range(1,len(predENSO12.columns)):\n",
    "        predENSO12.iloc[:,i]=predENSO12.iloc[:,i].shift(-i)\n",
    "\n",
    "predENSO12=predENSO12.dropna(axis=0)"
   ]
  },
  {
   "cell_type": "code",
   "execution_count": 35,
   "metadata": {},
   "outputs": [],
   "source": [
    "X_enso_12 = predENSO12.drop(\"Southern_oscillation_index\", axis=1)\n",
    "y_enso_12 = predENSO12['Southern_oscillation_index']\n",
    "X_enso_12 = preprocessing.normalize(X_enso_12)\n",
    "X_train_enso_12, X_test_enso_12, y_train_enso_12, y_test_enso_12 = train_test_split(\n",
    "X_enso_12, y_enso_12, test_size=0.2, random_state=42)"
   ]
  },
  {
   "cell_type": "code",
   "execution_count": 36,
   "metadata": {},
   "outputs": [
    {
     "name": "stdout",
     "output_type": "stream",
     "text": [
      "0.43754891968143983\n"
     ]
    }
   ],
   "source": [
    "RFG = RandomForestRegressor()\n",
    "parameters_RFG={}\n",
    "grid_RFG=GridSearchCV(estimator=RFG,param_grid=parameters_RFG, cv = 2, n_jobs=-1)\n",
    "grid_RFG.fit(X_train_enso_12, y_train_enso_12)\n",
    "grid_RFG.best_estimator_\n",
    "RFG12_score=grid_RFG.score(X_test_enso_12, y_test_enso_12)\n",
    "print(RFG12_score)\n"
   ]
  },
  {
   "cell_type": "code",
   "execution_count": 37,
   "metadata": {
    "scrolled": true
   },
   "outputs": [
    {
     "name": "stdout",
     "output_type": "stream",
     "text": [
      "0.5469833768372891\n"
     ]
    }
   ],
   "source": [
    "LR = LinearRegression()\n",
    "parameters_LR={'copy_X':[True], 'fit_intercept':[True], 'n_jobs':[None], 'normalize':[False]}\n",
    "grid_LR=GridSearchCV(estimator=LR,param_grid=parameters_LR, cv = 2, n_jobs=-1)\n",
    "grid_LR.fit(X_train_enso_12, y_train_enso_12)\n",
    "grid_LR.best_estimator_\n",
    "ENSO12_score=grid_LR.score(X_test_enso_12, y_test_enso_12)\n",
    "print(ENSO12_score)"
   ]
  },
  {
   "cell_type": "code",
   "execution_count": 38,
   "metadata": {},
   "outputs": [
    {
     "name": "stdout",
     "output_type": "stream",
     "text": [
      "Linear Regrssion R2 Score for 3 months: 0.4648820064310908\n",
      "Linear Regrssion R2 Score for 6 months: 0.4342390615905911\n",
      "Linear Regrssion R2 Score for 12 months: 0.5469833768372891\n",
      "Random Forest Regression R2 score for 3 months: 0.27549848554579537\n",
      "Random Forest Regression R2 score for 6 months: 0.4318423468635929\n",
      "Random Forest Regression R2 score for 12 months: 0.43754891968143983\n"
     ]
    }
   ],
   "source": [
    "print('Linear Regrssion R2 Score for 3 months:', ENSO_score)\n",
    "print('Linear Regrssion R2 Score for 6 months:', ENSO6_score)\n",
    "print('Linear Regrssion R2 Score for 12 months:', ENSO12_score)\n",
    "print('Random Forest Regression R2 score for 3 months:',RFG_score)\n",
    "print('Random Forest Regression R2 score for 6 months:', RFG6_score)\n",
    "print('Random Forest Regression R2 score for 12 months:',RFG12_score)"
   ]
  },
  {
   "cell_type": "markdown",
   "metadata": {},
   "source": [
    "Other then for the linear regression for 6 months, throughout the models we can see that as the number of months increases so does the r2 score. This would be due to as the number of months increases the model has increased spread of data to train on. So 12months would allow the model to have a much better understand of the data compared to 3 months which doesn't encaptulate unforseen volatility."
   ]
  },
  {
   "cell_type": "markdown",
   "metadata": {},
   "source": [
    "I then test if Enso is getting stronger or weaker year affter year."
   ]
  },
  {
   "cell_type": "code",
   "execution_count": 39,
   "metadata": {},
   "outputs": [
    {
     "name": "stdout",
     "output_type": "stream",
     "text": [
      "ENSO slope: 0.03298440065681445\n",
      "The slope of the curve is 0.0329 meaning each year we see a increase of 0.0329 increase in ENZO. This indicates that ENSO is getting stronger over time.\n"
     ]
    }
   ],
   "source": [
    "monthly1=monthly.astype(float)\n",
    "result = scipy.stats.linregress(monthly1.Month_year, monthly1.Southern_oscillation_index)\n",
    "rs=result.slope\n",
    "print('ENSO slope:', rs)\n",
    "print('The slope of the curve is 0.0329 meaning each year we see a increase of 0.0329 increase in ENZO. This indicates that ENSO is getting stronger over time.')"
   ]
  },
  {
   "cell_type": "code",
   "execution_count": null,
   "metadata": {},
   "outputs": [],
   "source": []
  },
  {
   "cell_type": "code",
   "execution_count": null,
   "metadata": {},
   "outputs": [],
   "source": []
  }
 ],
 "metadata": {
  "kernelspec": {
   "display_name": "Python 3",
   "language": "python",
   "name": "python3"
  },
  "language_info": {
   "codemirror_mode": {
    "name": "ipython",
    "version": 3
   },
   "file_extension": ".py",
   "mimetype": "text/x-python",
   "name": "python",
   "nbconvert_exporter": "python",
   "pygments_lexer": "ipython3",
   "version": "3.7.6"
  }
 },
 "nbformat": 4,
 "nbformat_minor": 4
}
